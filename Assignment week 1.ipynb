{
 "cells": [
  {
   "cell_type": "markdown",
   "id": "f45c8ff0-4fd1-4128-8bc2-09cb66908a48",
   "metadata": {},
   "source": [
    "Q1. Create one variable containing following type of data: (i) string (ii) list (iii) float (iv) tuple"
   ]
  },
  {
   "cell_type": "code",
   "execution_count": 1,
   "id": "524b2038-91f8-4ea8-85bb-c87102150b7c",
   "metadata": {},
   "outputs": [
    {
     "name": "stdout",
     "output_type": "stream",
     "text": [
      "string <class 'str'>\n",
      "[1, 2, 3, 'joy'] <class 'list'>\n",
      "20.58 <class 'float'>\n",
      "(1, 2, 3) <class 'tuple'>\n"
     ]
    }
   ],
   "source": [
    "Variable=['string',[1,2,3,'joy'],20.58,(1,2,3)]\n",
    "for i in Variable:\n",
    "    print(i,type(i))"
   ]
  },
  {
   "cell_type": "code",
   "execution_count": null,
   "id": "c9e77322-d939-4bd3-9954-1226a4e2ee1c",
   "metadata": {},
   "outputs": [],
   "source": []
  },
  {
   "cell_type": "markdown",
   "id": "d70506f3-b898-4408-80ca-c212defe2bbe",
   "metadata": {},
   "source": [
    "Q2. Given are some following variables containing data: (i) var1 = ‘ ‘ (ii) var2 = ‘[ DS , ML , Python]’ (iii) var3 = [ ‘DS’ , ’ML’ , ‘Python’ ] (iv) var4 = 1.What will be the data type of the above given variable."
   ]
  },
  {
   "cell_type": "code",
   "execution_count": null,
   "id": "b2eda360-9d17-458b-9af2-c7029ed2c674",
   "metadata": {},
   "outputs": [],
   "source": [
    "(i) var1 = ' '  ----# Data Type -- 'str'\n",
    "\n",
    "(ii) var2 = '[ DS , ML , Python]'  # Data Type -- 'str'\n",
    "\n",
    "(iii) var3 = [ 'DS' , 'ML' , 'Python' ]  # Data Type -- 'list'\n",
    "\n",
    "(iv) var4 = 1.  # Data Type 'int'\n"
   ]
  },
  {
   "cell_type": "code",
   "execution_count": 7,
   "id": "e92d7671-d74f-4851-84f4-21afae0af867",
   "metadata": {},
   "outputs": [
    {
     "name": "stdout",
     "output_type": "stream",
     "text": [
      "var1 - <class 'str'>\n",
      "var2 - <class 'str'>\n",
      "var3 - <class 'list'>\n",
      "var4 - <class 'int'>\n"
     ]
    }
   ],
   "source": [
    "var1 = ' ' \n",
    "\n",
    "var2 = '[ DS , ML , Python]' \n",
    "\n",
    "var3 = [ 'DS' , 'ML' , 'Python' ] \n",
    "\n",
    "var4 = 1 \n",
    "print('var1','-',type(var1))\n",
    "print('var2','-',type(var2))\n",
    "print('var3','-',type(var3))\n",
    "print('var4','-',type(var4))\n"
   ]
  },
  {
   "cell_type": "code",
   "execution_count": null,
   "id": "b92eb4a3-b4fa-4eae-b7a0-c8a1ae76dcde",
   "metadata": {},
   "outputs": [],
   "source": []
  },
  {
   "cell_type": "markdown",
   "id": "72710d1f-c5da-438b-8291-ca6d0c3b9d2f",
   "metadata": {},
   "source": [
    "Q3. Explain the use of the following operators using an example:\n",
    "(i) /\n",
    "(ii) %\n",
    "(iii) //\n",
    "(iv) **"
   ]
  },
  {
   "cell_type": "code",
   "execution_count": 2,
   "id": "4ce826f1-d4a9-48dc-84a5-26cf412cfd94",
   "metadata": {},
   "outputs": [
    {
     "name": "stdout",
     "output_type": "stream",
     "text": [
      "3.0\n"
     ]
    }
   ],
   "source": [
    "#(1) '/' - this operator is use to divide 'a' and 'b'\n",
    "a=15\n",
    "b=5\n",
    "print(a/b)"
   ]
  },
  {
   "cell_type": "code",
   "execution_count": 3,
   "id": "0027293b-688a-49f4-b4d4-46c83070d3d2",
   "metadata": {},
   "outputs": [
    {
     "name": "stdout",
     "output_type": "stream",
     "text": [
      "1\n"
     ]
    }
   ],
   "source": [
    "#(2) '%' - this operator is called Modulus. it gives remainder after dividing 'a' and 'b'\n",
    "a=16\n",
    "b=3\n",
    "print(a%b)\n"
   ]
  },
  {
   "cell_type": "code",
   "execution_count": 4,
   "id": "3db77608-7116-4948-9c25-1b5943c90963",
   "metadata": {
    "tags": []
   },
   "outputs": [
    {
     "name": "stdout",
     "output_type": "stream",
     "text": [
      "5\n"
     ]
    }
   ],
   "source": [
    "#(3) '//' - This operator is called Floor Division.It ignores the decimal value if present.\n",
    "a=16\n",
    "b=3\n",
    "print(a//b)"
   ]
  },
  {
   "cell_type": "code",
   "execution_count": 1,
   "id": "c37c899b-95ab-44c5-b4c0-f0f3f535e3d7",
   "metadata": {
    "tags": []
   },
   "outputs": [
    {
     "name": "stdout",
     "output_type": "stream",
     "text": [
      "16\n"
     ]
    }
   ],
   "source": [
    "#(4) '**' - This operator is called Exponential.if gives a**b means a to the power of b\n",
    "a=4\n",
    "b=2\n",
    "print(a**b)\n"
   ]
  },
  {
   "cell_type": "code",
   "execution_count": null,
   "id": "4418803d-3924-4663-a034-97478e5ffa7e",
   "metadata": {},
   "outputs": [],
   "source": []
  },
  {
   "cell_type": "markdown",
   "id": "b96b7fe8-f0f9-41fa-be9b-79b14b78240c",
   "metadata": {},
   "source": [
    "Q4. Create a list of length 10 of your choice containing multiple types of data. Using for loop print the\n",
    "element and its data type."
   ]
  },
  {
   "cell_type": "code",
   "execution_count": 9,
   "id": "7b40b3ff-c282-40cb-bffc-171c8cb46857",
   "metadata": {},
   "outputs": [
    {
     "name": "stdout",
     "output_type": "stream",
     "text": [
      "String - <class 'str'>\n",
      "2 - <class 'int'>\n",
      "3.4 - <class 'float'>\n",
      "(5+7j) - <class 'complex'>\n",
      "[1, 'Joy', 4.1, (5, 6, 8), [10, 11, 12]] - <class 'list'>\n",
      "(5, 8, 7, 'Joy') - <class 'tuple'>\n",
      "{'Joy': 2, 'Apple': 3, 'Mango': 4} - <class 'dict'>\n",
      "{8, 2, 'Joy', 5} - <class 'set'>\n",
      "True - <class 'bool'>\n",
      "None - <class 'NoneType'>\n"
     ]
    }
   ],
   "source": [
    "list=['String',2,3.4,5+7j,[1,'Joy',4.1,(5,6,8),[10,11,12]],(5,8,7,'Joy'),{'Joy':2,'Apple':3,'Mango':4},{2,5,8,'Joy'},True,None]\n",
    "for i in list:\n",
    "    print(i,'-', type(i))"
   ]
  },
  {
   "cell_type": "code",
   "execution_count": null,
   "id": "334870a6-fd80-42bc-99ec-1d1e8b23ca7c",
   "metadata": {},
   "outputs": [],
   "source": []
  },
  {
   "cell_type": "markdown",
   "id": "d1ea0c84-f985-43b9-8011-4e5f29ffcd34",
   "metadata": {},
   "source": [
    "Q5. Using a while loop, verify if the number A is purely divisible by number B and if so then how many times it can be divisible."
   ]
  },
  {
   "cell_type": "code",
   "execution_count": 10,
   "id": "b694ad44-95d1-49e9-92bb-b2eefc3da956",
   "metadata": {},
   "outputs": [
    {
     "name": "stdout",
     "output_type": "stream",
     "text": [
      "'A' is purely divisible by 'B' by  2 times\n"
     ]
    }
   ],
   "source": [
    "A=12\n",
    "B=2\n",
    "count=0\n",
    "while A%B==0:\n",
    "    A=A/B\n",
    "    count+=1\n",
    "print(\"'A' is purely divisible by 'B' by \", count, 'times')"
   ]
  },
  {
   "cell_type": "code",
   "execution_count": null,
   "id": "c4079352-c1bc-470b-a6ee-b20803933b48",
   "metadata": {},
   "outputs": [],
   "source": []
  },
  {
   "cell_type": "markdown",
   "id": "60349606-60f7-4bc1-8e4a-1c23e7f07a24",
   "metadata": {},
   "source": [
    "Q6. Create a list containing 25 int type data. Using for loop and if-else condition print if the element is\n",
    "divisible by 3 or not."
   ]
  },
  {
   "cell_type": "code",
   "execution_count": 11,
   "id": "3b758ee6-6852-4426-a0bb-4de4623b8fd8",
   "metadata": {},
   "outputs": [
    {
     "name": "stdout",
     "output_type": "stream",
     "text": [
      "[1, 2, 3, 4, 5, 6, 7, 8, 9, 10, 11, 12, 13, 14, 15, 16, 17, 18, 19, 20, 21, 22, 23, 24, 25]\n",
      "1 - This element is not divisible by 3 \n",
      "2 - This element is not divisible by 3 \n",
      "3 - This element is divisible by 3 \n",
      "4 - This element is not divisible by 3 \n",
      "5 - This element is not divisible by 3 \n",
      "6 - This element is divisible by 3 \n",
      "7 - This element is not divisible by 3 \n",
      "8 - This element is not divisible by 3 \n",
      "9 - This element is divisible by 3 \n",
      "10 - This element is not divisible by 3 \n",
      "11 - This element is not divisible by 3 \n",
      "12 - This element is divisible by 3 \n",
      "13 - This element is not divisible by 3 \n",
      "14 - This element is not divisible by 3 \n",
      "15 - This element is divisible by 3 \n",
      "16 - This element is not divisible by 3 \n",
      "17 - This element is not divisible by 3 \n",
      "18 - This element is divisible by 3 \n",
      "19 - This element is not divisible by 3 \n",
      "20 - This element is not divisible by 3 \n",
      "21 - This element is divisible by 3 \n",
      "22 - This element is not divisible by 3 \n",
      "23 - This element is not divisible by 3 \n",
      "24 - This element is divisible by 3 \n",
      "25 - This element is not divisible by 3 \n"
     ]
    }
   ],
   "source": [
    "list=[]\n",
    "for i in range(1,26):\n",
    "    list.append(i)\n",
    "print(list)\n",
    "for i in list:\n",
    "    if i%3==0:\n",
    "        print(i,'- This element is divisible by 3 ')\n",
    "    else:\n",
    "        print(i,'- This element is not divisible by 3 ')"
   ]
  },
  {
   "cell_type": "code",
   "execution_count": null,
   "id": "05e4ca67-65ab-401b-9807-82075914ada9",
   "metadata": {},
   "outputs": [],
   "source": []
  },
  {
   "cell_type": "markdown",
   "id": "f8be0fd5-dd78-4ae0-9333-3c0008600f3e",
   "metadata": {},
   "source": [
    "Q7. What do you understand about mutable and immutable data types? Give examples for both showing\n",
    "this property."
   ]
  },
  {
   "cell_type": "code",
   "execution_count": 13,
   "id": "3fa95473-d103-48e5-83f1-af15e3a92a16",
   "metadata": {},
   "outputs": [
    {
     "name": "stdout",
     "output_type": "stream",
     "text": [
      "[5, 2.5, (3+7j), [1, 2, 3], ('apple', 'mango', 'banana')]\n"
     ]
    }
   ],
   "source": [
    "# MUTABLE DATA TYPES - We can easily change the value of this kind of data types.Example - 'List','set' etc\n",
    "list=[1,2.5,3+7j,[1,2,3],('apple','mango','banana')]\n",
    "list[0]=5    # This operation easily change the original value and put '5' in place of '1'\n",
    "print(list)"
   ]
  },
  {
   "cell_type": "code",
   "execution_count": 14,
   "id": "1fdf13f4-4fc7-4964-b478-72d6cfbed77c",
   "metadata": {},
   "outputs": [
    {
     "ename": "TypeError",
     "evalue": "'str' object does not support item assignment",
     "output_type": "error",
     "traceback": [
      "\u001b[0;31m---------------------------------------------------------------------------\u001b[0m",
      "\u001b[0;31mTypeError\u001b[0m                                 Traceback (most recent call last)",
      "Cell \u001b[0;32mIn[14], line 3\u001b[0m\n\u001b[1;32m      1\u001b[0m \u001b[38;5;66;03m# IMMUTABLE DATA TYPES - We can't change the value of this kind of data types. Examples - 'String' \u001b[39;00m\n\u001b[1;32m      2\u001b[0m x\u001b[38;5;241m=\u001b[39m\u001b[38;5;124m'\u001b[39m\u001b[38;5;124mString\u001b[39m\u001b[38;5;124m'\u001b[39m\n\u001b[0;32m----> 3\u001b[0m \u001b[43mx\u001b[49m\u001b[43m[\u001b[49m\u001b[38;5;241;43m0\u001b[39;49m\u001b[43m]\u001b[49m\u001b[38;5;241m=\u001b[39m\u001b[38;5;124m'\u001b[39m\u001b[38;5;124mB\u001b[39m\u001b[38;5;124m'\u001b[39m  \u001b[38;5;66;03m# this operation can't take place because we can't change the value of string\u001b[39;00m\n",
      "\u001b[0;31mTypeError\u001b[0m: 'str' object does not support item assignment"
     ]
    }
   ],
   "source": [
    "# IMMUTABLE DATA TYPES - We can't change the value of this kind of data types. Examples - 'String' \n",
    "x='String'\n",
    "x[0]='B'  # this operation can't take place because we can't change the value of string"
   ]
  },
  {
   "cell_type": "code",
   "execution_count": 2,
   "id": "a01ac843-7007-42de-aaeb-65a2a8d3636c",
   "metadata": {},
   "outputs": [
    {
     "name": "stdout",
     "output_type": "stream",
     "text": [
      "S\n",
      "Atring\n",
      "String\n"
     ]
    }
   ],
   "source": [
    "# We can access and modify the value and store it into another variable or reassigned it. But the main value isn't change\n",
    "\n",
    "x='String'\n",
    "print(x[0])              # in this way we can access the each element of string\n",
    "\n",
    "print(x.replace('S','A'))       #in this way we can modify the value and store it in another variable but \n",
    "                            # it doesn't change the value of original 'x' if we don't reassign it '''\n",
    "    \n",
    "print(x)    # when we print the value of 'x' we can see the value of 'x' isn't change.\n"
   ]
  },
  {
   "cell_type": "code",
   "execution_count": null,
   "id": "71cf8309-d488-4ea8-95ca-df9a59b11e9f",
   "metadata": {},
   "outputs": [],
   "source": []
  }
 ],
 "metadata": {
  "kernelspec": {
   "display_name": "Python 3 (ipykernel)",
   "language": "python",
   "name": "python3"
  },
  "language_info": {
   "codemirror_mode": {
    "name": "ipython",
    "version": 3
   },
   "file_extension": ".py",
   "mimetype": "text/x-python",
   "name": "python",
   "nbconvert_exporter": "python",
   "pygments_lexer": "ipython3",
   "version": "3.10.8"
  }
 },
 "nbformat": 4,
 "nbformat_minor": 5
}
